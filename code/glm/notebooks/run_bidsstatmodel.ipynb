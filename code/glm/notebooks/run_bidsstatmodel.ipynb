{
 "cells": [
  {
   "cell_type": "code",
   "execution_count": 1,
   "id": "6b25d3d7",
   "metadata": {},
   "outputs": [],
   "source": [
    "import pandas as pd\n",
    "import numpy as np\n",
    "from bids.modeling import BIDSStatsModelsGraph\n",
    "from bids.layout import BIDSLayout\n",
    "from bids.tests import get_test_data_path\n",
    "from os.path import join\n",
    "import json"
   ]
  },
  {
   "cell_type": "code",
   "execution_count": 2,
   "id": "fda1d508",
   "metadata": {},
   "outputs": [
    {
     "data": {
      "text/plain": [
       "{'Name': 'RTMSWM_model001',\n",
       " 'BIDSModelVersion': '1.0.0',\n",
       " 'Description': 'RTMSWM first BIDS model: a simple 2-condition block contrast.',\n",
       " 'Input': {'subject': ['CMHWM030', 'CMHWM033'],\n",
       "  'task': ['nbk'],\n",
       "  'session': ['01']},\n",
       " 'Nodes': [{'Level': 'Run',\n",
       "   'Name': 'run_level',\n",
       "   'GroupBy': ['run', 'subject'],\n",
       "   'Model': {'X': ['threebackblock', 'onebackblock'], 'Type': 'glm'},\n",
       "   'Contrasts': [{'Name': 'threebackblockkminusonebackblock',\n",
       "     'ConditionList': ['threebackblock', 'onebackblock'],\n",
       "     'Weights': [1, -1],\n",
       "     'Test': 't'},\n",
       "    {'Name': 'onebackblock',\n",
       "     'ConditionList': ['onebackblock'],\n",
       "     'Weights': [1],\n",
       "     'Test': 't'},\n",
       "    {'Name': 'threebackblock',\n",
       "     'ConditionList': ['threebackblock'],\n",
       "     'Weights': [1],\n",
       "     'Test': 't'}]}]}"
      ]
     },
     "execution_count": 2,
     "metadata": {},
     "output_type": "execute_result"
    }
   ],
   "source": [
    "bids_dir = \"/scratch/ttan/ScanD_pipelines_scc/data/local/bids/\"\n",
    "derivatives_dir = \"/scratch/ttan/ScanD_pipelines_scc/data/local/derivatives/fmriprep\"\n",
    "layout = BIDSLayout(bids_dir, derivatives=derivatives_dir, validate=False)\n",
    "json_path = \"/projects/ttan/SCanD_project/code/glm/examples/models/RTMSWM/model-003_smdl.json\"\n",
    "specs = json.load(open(json_path,'r'))\n",
    "specs"
   ]
  },
  {
   "cell_type": "code",
   "execution_count": 3,
   "id": "abfac08e",
   "metadata": {},
   "outputs": [],
   "source": [
    "layout = BIDSLayout(bids_dir, validate=False)"
   ]
  },
  {
   "cell_type": "code",
   "execution_count": 4,
   "id": "92924738",
   "metadata": {},
   "outputs": [],
   "source": [
    "graph = BIDSStatsModelsGraph(layout, specs)"
   ]
  },
  {
   "cell_type": "code",
   "execution_count": 5,
   "id": "81670507",
   "metadata": {},
   "outputs": [
    {
     "data": {
      "text/plain": [
       "<BIDSStatsModelsGraph[{name='RTMSWM_model001', description='RTMSWM first BIDS model: a simple 2-condition block contrast.', ... }]>"
      ]
     },
     "execution_count": 5,
     "metadata": {},
     "output_type": "execute_result"
    }
   ],
   "source": [
    "graph"
   ]
  },
  {
   "cell_type": "code",
   "execution_count": 21,
   "id": "3d11d61c",
   "metadata": {},
   "outputs": [
    {
     "name": "stderr",
     "output_type": "stream",
     "text": [
      "/home/ttan/.pyenv/versions/3.10.7/envs/SCanD_env-3.10.7/lib/python3.10/site-packages/bids/variables/io.py:276: FutureWarning: errors='ignore' is deprecated and will raise in a future version. Use to_numeric without passing `errors` and catch exceptions explicitly instead\n",
      "  _data = _data.apply(pd.to_numeric, errors='ignore')\n",
      "/home/ttan/.pyenv/versions/3.10.7/envs/SCanD_env-3.10.7/lib/python3.10/site-packages/bids/variables/io.py:276: FutureWarning: errors='ignore' is deprecated and will raise in a future version. Use to_numeric without passing `errors` and catch exceptions explicitly instead\n",
      "  _data = _data.apply(pd.to_numeric, errors='ignore')\n"
     ]
    }
   ],
   "source": [
    "graph.load_collections()"
   ]
  },
  {
   "cell_type": "code",
   "execution_count": 22,
   "id": "c46ce5ff",
   "metadata": {},
   "outputs": [],
   "source": [
    "# Equivalent to calling graph.get_node('run') in this case.\n",
    "root_node = graph.root_node"
   ]
  },
  {
   "cell_type": "code",
   "execution_count": 23,
   "id": "00b9c4c9",
   "metadata": {},
   "outputs": [
    {
     "data": {
      "text/plain": [
       "<BIDSStatsModelsNode(level=run, name=run_level)>"
      ]
     },
     "execution_count": 23,
     "metadata": {},
     "output_type": "execute_result"
    }
   ],
   "source": [
    "root_node"
   ]
  },
  {
   "cell_type": "code",
   "execution_count": 24,
   "id": "1ee7de52",
   "metadata": {},
   "outputs": [],
   "source": [
    "colls = root_node.get_collections()"
   ]
  },
  {
   "cell_type": "code",
   "execution_count": 28,
   "id": "fa1b4277",
   "metadata": {},
   "outputs": [
    {
     "name": "stderr",
     "output_type": "stream",
     "text": [
      "/home/ttan/.pyenv/versions/3.10.7/envs/SCanD_env-3.10.7/lib/python3.10/site-packages/bids/variables/collections.py:181: FutureWarning: Downcasting behavior in `replace` is deprecated and will be removed in a future version. To retain the old behavior, explicitly call `result.infer_objects(copy=False)`. To opt-in to the future behavior, set `pd.set_option('future.no_silent_downcasting', True)`\n",
      "  df = df.reset_index().replace(\"n/a\", fillna)\n"
     ]
    },
    {
     "data": {
      "text/html": [
       "<div>\n",
       "<style scoped>\n",
       "    .dataframe tbody tr th:only-of-type {\n",
       "        vertical-align: middle;\n",
       "    }\n",
       "\n",
       "    .dataframe tbody tr th {\n",
       "        vertical-align: top;\n",
       "    }\n",
       "\n",
       "    .dataframe thead th {\n",
       "        text-align: right;\n",
       "    }\n",
       "</style>\n",
       "<table border=\"1\" class=\"dataframe\">\n",
       "  <thead>\n",
       "    <tr style=\"text-align: right;\">\n",
       "      <th></th>\n",
       "      <th>duration</th>\n",
       "      <th>run</th>\n",
       "      <th>subject</th>\n",
       "      <th>session</th>\n",
       "      <th>onset</th>\n",
       "      <th>block</th>\n",
       "      <th>correct_response</th>\n",
       "      <th>participant_response</th>\n",
       "      <th>response_time</th>\n",
       "      <th>trial_type</th>\n",
       "      <th>suffix</th>\n",
       "      <th>datatype</th>\n",
       "      <th>task</th>\n",
       "    </tr>\n",
       "  </thead>\n",
       "  <tbody>\n",
       "    <tr>\n",
       "      <th>0</th>\n",
       "      <td>0</td>\n",
       "      <td>1</td>\n",
       "      <td>CMHWM030</td>\n",
       "      <td>01</td>\n",
       "      <td>7.000</td>\n",
       "      <td>1</td>\n",
       "      <td>0.0</td>\n",
       "      <td>0.0</td>\n",
       "      <td>0.0</td>\n",
       "      <td>oneback</td>\n",
       "      <td>bold</td>\n",
       "      <td>func</td>\n",
       "      <td>nbk</td>\n",
       "    </tr>\n",
       "    <tr>\n",
       "      <th>1</th>\n",
       "      <td>0</td>\n",
       "      <td>1</td>\n",
       "      <td>CMHWM030</td>\n",
       "      <td>01</td>\n",
       "      <td>10.009</td>\n",
       "      <td>1</td>\n",
       "      <td>0.0</td>\n",
       "      <td>0.0</td>\n",
       "      <td>0.0</td>\n",
       "      <td>oneback</td>\n",
       "      <td>bold</td>\n",
       "      <td>func</td>\n",
       "      <td>nbk</td>\n",
       "    </tr>\n",
       "    <tr>\n",
       "      <th>2</th>\n",
       "      <td>0</td>\n",
       "      <td>1</td>\n",
       "      <td>CMHWM030</td>\n",
       "      <td>01</td>\n",
       "      <td>13.018</td>\n",
       "      <td>1</td>\n",
       "      <td>1.0</td>\n",
       "      <td>0.0</td>\n",
       "      <td>0.0</td>\n",
       "      <td>oneback</td>\n",
       "      <td>bold</td>\n",
       "      <td>func</td>\n",
       "      <td>nbk</td>\n",
       "    </tr>\n",
       "    <tr>\n",
       "      <th>3</th>\n",
       "      <td>0</td>\n",
       "      <td>1</td>\n",
       "      <td>CMHWM030</td>\n",
       "      <td>01</td>\n",
       "      <td>16.027</td>\n",
       "      <td>1</td>\n",
       "      <td>0.0</td>\n",
       "      <td>0.0</td>\n",
       "      <td>0.0</td>\n",
       "      <td>oneback</td>\n",
       "      <td>bold</td>\n",
       "      <td>func</td>\n",
       "      <td>nbk</td>\n",
       "    </tr>\n",
       "    <tr>\n",
       "      <th>4</th>\n",
       "      <td>0</td>\n",
       "      <td>1</td>\n",
       "      <td>CMHWM030</td>\n",
       "      <td>01</td>\n",
       "      <td>19.036</td>\n",
       "      <td>1</td>\n",
       "      <td>0.0</td>\n",
       "      <td>0.0</td>\n",
       "      <td>0.0</td>\n",
       "      <td>oneback</td>\n",
       "      <td>bold</td>\n",
       "      <td>func</td>\n",
       "      <td>nbk</td>\n",
       "    </tr>\n",
       "    <tr>\n",
       "      <th>...</th>\n",
       "      <td>...</td>\n",
       "      <td>...</td>\n",
       "      <td>...</td>\n",
       "      <td>...</td>\n",
       "      <td>...</td>\n",
       "      <td>...</td>\n",
       "      <td>...</td>\n",
       "      <td>...</td>\n",
       "      <td>...</td>\n",
       "      <td>...</td>\n",
       "      <td>...</td>\n",
       "      <td>...</td>\n",
       "      <td>...</td>\n",
       "    </tr>\n",
       "    <tr>\n",
       "      <th>205</th>\n",
       "      <td>60</td>\n",
       "      <td>1</td>\n",
       "      <td>CMHWM030</td>\n",
       "      <td>01</td>\n",
       "      <td>402.938</td>\n",
       "      <td>3</td>\n",
       "      <td>NaN</td>\n",
       "      <td>NaN</td>\n",
       "      <td>NaN</td>\n",
       "      <td>threebackblock</td>\n",
       "      <td>bold</td>\n",
       "      <td>func</td>\n",
       "      <td>nbk</td>\n",
       "    </tr>\n",
       "    <tr>\n",
       "      <th>206</th>\n",
       "      <td>60</td>\n",
       "      <td>1</td>\n",
       "      <td>CMHWM030</td>\n",
       "      <td>01</td>\n",
       "      <td>500.130</td>\n",
       "      <td>4</td>\n",
       "      <td>NaN</td>\n",
       "      <td>NaN</td>\n",
       "      <td>NaN</td>\n",
       "      <td>onebackblock</td>\n",
       "      <td>bold</td>\n",
       "      <td>func</td>\n",
       "      <td>nbk</td>\n",
       "    </tr>\n",
       "    <tr>\n",
       "      <th>207</th>\n",
       "      <td>60</td>\n",
       "      <td>1</td>\n",
       "      <td>CMHWM030</td>\n",
       "      <td>01</td>\n",
       "      <td>567.315</td>\n",
       "      <td>4</td>\n",
       "      <td>NaN</td>\n",
       "      <td>NaN</td>\n",
       "      <td>NaN</td>\n",
       "      <td>threebackblock</td>\n",
       "      <td>bold</td>\n",
       "      <td>func</td>\n",
       "      <td>nbk</td>\n",
       "    </tr>\n",
       "    <tr>\n",
       "      <th>208</th>\n",
       "      <td>60</td>\n",
       "      <td>1</td>\n",
       "      <td>CMHWM030</td>\n",
       "      <td>01</td>\n",
       "      <td>664.506</td>\n",
       "      <td>5</td>\n",
       "      <td>NaN</td>\n",
       "      <td>NaN</td>\n",
       "      <td>NaN</td>\n",
       "      <td>onebackblock</td>\n",
       "      <td>bold</td>\n",
       "      <td>func</td>\n",
       "      <td>nbk</td>\n",
       "    </tr>\n",
       "    <tr>\n",
       "      <th>209</th>\n",
       "      <td>60</td>\n",
       "      <td>1</td>\n",
       "      <td>CMHWM030</td>\n",
       "      <td>01</td>\n",
       "      <td>731.691</td>\n",
       "      <td>5</td>\n",
       "      <td>NaN</td>\n",
       "      <td>NaN</td>\n",
       "      <td>NaN</td>\n",
       "      <td>threebackblock</td>\n",
       "      <td>bold</td>\n",
       "      <td>func</td>\n",
       "      <td>nbk</td>\n",
       "    </tr>\n",
       "  </tbody>\n",
       "</table>\n",
       "<p>210 rows × 13 columns</p>\n",
       "</div>"
      ],
      "text/plain": [
       "     duration  run   subject session    onset  block  correct_response  \\\n",
       "0           0    1  CMHWM030      01    7.000      1               0.0   \n",
       "1           0    1  CMHWM030      01   10.009      1               0.0   \n",
       "2           0    1  CMHWM030      01   13.018      1               1.0   \n",
       "3           0    1  CMHWM030      01   16.027      1               0.0   \n",
       "4           0    1  CMHWM030      01   19.036      1               0.0   \n",
       "..        ...  ...       ...     ...      ...    ...               ...   \n",
       "205        60    1  CMHWM030      01  402.938      3               NaN   \n",
       "206        60    1  CMHWM030      01  500.130      4               NaN   \n",
       "207        60    1  CMHWM030      01  567.315      4               NaN   \n",
       "208        60    1  CMHWM030      01  664.506      5               NaN   \n",
       "209        60    1  CMHWM030      01  731.691      5               NaN   \n",
       "\n",
       "     participant_response  response_time      trial_type suffix datatype task  \n",
       "0                     0.0            0.0         oneback   bold     func  nbk  \n",
       "1                     0.0            0.0         oneback   bold     func  nbk  \n",
       "2                     0.0            0.0         oneback   bold     func  nbk  \n",
       "3                     0.0            0.0         oneback   bold     func  nbk  \n",
       "4                     0.0            0.0         oneback   bold     func  nbk  \n",
       "..                    ...            ...             ...    ...      ...  ...  \n",
       "205                   NaN            NaN  threebackblock   bold     func  nbk  \n",
       "206                   NaN            NaN    onebackblock   bold     func  nbk  \n",
       "207                   NaN            NaN  threebackblock   bold     func  nbk  \n",
       "208                   NaN            NaN    onebackblock   bold     func  nbk  \n",
       "209                   NaN            NaN  threebackblock   bold     func  nbk  \n",
       "\n",
       "[210 rows x 13 columns]"
      ]
     },
     "execution_count": 28,
     "metadata": {},
     "output_type": "execute_result"
    }
   ],
   "source": [
    "colls[0].to_df()"
   ]
  },
  {
   "cell_type": "code",
   "execution_count": 29,
   "id": "f74ef618",
   "metadata": {},
   "outputs": [
    {
     "name": "stderr",
     "output_type": "stream",
     "text": [
      "/home/ttan/.pyenv/versions/3.10.7/envs/SCanD_env-3.10.7/lib/python3.10/site-packages/bids/variables/collections.py:181: FutureWarning: Downcasting behavior in `replace` is deprecated and will be removed in a future version. To retain the old behavior, explicitly call `result.infer_objects(copy=False)`. To opt-in to the future behavior, set `pd.set_option('future.no_silent_downcasting', True)`\n",
      "  df = df.reset_index().replace(\"n/a\", fillna)\n"
     ]
    }
   ],
   "source": [
    "sub_df = colls[0].to_df(entities=False)"
   ]
  },
  {
   "cell_type": "code",
   "execution_count": 41,
   "id": "f6aafc4a",
   "metadata": {},
   "outputs": [
    {
     "data": {
      "text/html": [
       "<div>\n",
       "<style scoped>\n",
       "    .dataframe tbody tr th:only-of-type {\n",
       "        vertical-align: middle;\n",
       "    }\n",
       "\n",
       "    .dataframe tbody tr th {\n",
       "        vertical-align: top;\n",
       "    }\n",
       "\n",
       "    .dataframe thead th {\n",
       "        text-align: right;\n",
       "    }\n",
       "</style>\n",
       "<table border=\"1\" class=\"dataframe\">\n",
       "  <thead>\n",
       "    <tr style=\"text-align: right;\">\n",
       "      <th></th>\n",
       "      <th>duration</th>\n",
       "      <th>onset</th>\n",
       "      <th>block</th>\n",
       "      <th>correct_response</th>\n",
       "      <th>participant_response</th>\n",
       "      <th>response_time</th>\n",
       "      <th>trial_type</th>\n",
       "    </tr>\n",
       "  </thead>\n",
       "  <tbody>\n",
       "    <tr>\n",
       "      <th>0</th>\n",
       "      <td>0</td>\n",
       "      <td>7.000</td>\n",
       "      <td>1</td>\n",
       "      <td>0.0</td>\n",
       "      <td>0.0</td>\n",
       "      <td>0.0</td>\n",
       "      <td>oneback</td>\n",
       "    </tr>\n",
       "    <tr>\n",
       "      <th>1</th>\n",
       "      <td>0</td>\n",
       "      <td>10.009</td>\n",
       "      <td>1</td>\n",
       "      <td>0.0</td>\n",
       "      <td>0.0</td>\n",
       "      <td>0.0</td>\n",
       "      <td>oneback</td>\n",
       "    </tr>\n",
       "    <tr>\n",
       "      <th>2</th>\n",
       "      <td>0</td>\n",
       "      <td>13.018</td>\n",
       "      <td>1</td>\n",
       "      <td>1.0</td>\n",
       "      <td>0.0</td>\n",
       "      <td>0.0</td>\n",
       "      <td>oneback</td>\n",
       "    </tr>\n",
       "    <tr>\n",
       "      <th>3</th>\n",
       "      <td>0</td>\n",
       "      <td>16.027</td>\n",
       "      <td>1</td>\n",
       "      <td>0.0</td>\n",
       "      <td>0.0</td>\n",
       "      <td>0.0</td>\n",
       "      <td>oneback</td>\n",
       "    </tr>\n",
       "    <tr>\n",
       "      <th>4</th>\n",
       "      <td>0</td>\n",
       "      <td>19.036</td>\n",
       "      <td>1</td>\n",
       "      <td>0.0</td>\n",
       "      <td>0.0</td>\n",
       "      <td>0.0</td>\n",
       "      <td>oneback</td>\n",
       "    </tr>\n",
       "    <tr>\n",
       "      <th>...</th>\n",
       "      <td>...</td>\n",
       "      <td>...</td>\n",
       "      <td>...</td>\n",
       "      <td>...</td>\n",
       "      <td>...</td>\n",
       "      <td>...</td>\n",
       "      <td>...</td>\n",
       "    </tr>\n",
       "    <tr>\n",
       "      <th>195</th>\n",
       "      <td>0</td>\n",
       "      <td>776.827</td>\n",
       "      <td>5</td>\n",
       "      <td>0.0</td>\n",
       "      <td>0.0</td>\n",
       "      <td>0.0</td>\n",
       "      <td>threeback</td>\n",
       "    </tr>\n",
       "    <tr>\n",
       "      <th>196</th>\n",
       "      <td>0</td>\n",
       "      <td>779.836</td>\n",
       "      <td>5</td>\n",
       "      <td>0.0</td>\n",
       "      <td>0.0</td>\n",
       "      <td>0.0</td>\n",
       "      <td>threeback</td>\n",
       "    </tr>\n",
       "    <tr>\n",
       "      <th>197</th>\n",
       "      <td>0</td>\n",
       "      <td>782.845</td>\n",
       "      <td>5</td>\n",
       "      <td>0.0</td>\n",
       "      <td>0.0</td>\n",
       "      <td>0.0</td>\n",
       "      <td>threeback</td>\n",
       "    </tr>\n",
       "    <tr>\n",
       "      <th>198</th>\n",
       "      <td>0</td>\n",
       "      <td>785.854</td>\n",
       "      <td>5</td>\n",
       "      <td>1.0</td>\n",
       "      <td>0.0</td>\n",
       "      <td>0.0</td>\n",
       "      <td>threeback</td>\n",
       "    </tr>\n",
       "    <tr>\n",
       "      <th>199</th>\n",
       "      <td>0</td>\n",
       "      <td>788.863</td>\n",
       "      <td>5</td>\n",
       "      <td>0.0</td>\n",
       "      <td>0.0</td>\n",
       "      <td>0.0</td>\n",
       "      <td>threeback</td>\n",
       "    </tr>\n",
       "  </tbody>\n",
       "</table>\n",
       "<p>200 rows × 7 columns</p>\n",
       "</div>"
      ],
      "text/plain": [
       "     duration    onset  block  correct_response  participant_response  \\\n",
       "0           0    7.000      1               0.0                   0.0   \n",
       "1           0   10.009      1               0.0                   0.0   \n",
       "2           0   13.018      1               1.0                   0.0   \n",
       "3           0   16.027      1               0.0                   0.0   \n",
       "4           0   19.036      1               0.0                   0.0   \n",
       "..        ...      ...    ...               ...                   ...   \n",
       "195         0  776.827      5               0.0                   0.0   \n",
       "196         0  779.836      5               0.0                   0.0   \n",
       "197         0  782.845      5               0.0                   0.0   \n",
       "198         0  785.854      5               1.0                   0.0   \n",
       "199         0  788.863      5               0.0                   0.0   \n",
       "\n",
       "     response_time trial_type  \n",
       "0              0.0    oneback  \n",
       "1              0.0    oneback  \n",
       "2              0.0    oneback  \n",
       "3              0.0    oneback  \n",
       "4              0.0    oneback  \n",
       "..             ...        ...  \n",
       "195            0.0  threeback  \n",
       "196            0.0  threeback  \n",
       "197            0.0  threeback  \n",
       "198            0.0  threeback  \n",
       "199            0.0  threeback  \n",
       "\n",
       "[200 rows x 7 columns]"
      ]
     },
     "execution_count": 41,
     "metadata": {},
     "output_type": "execute_result"
    }
   ],
   "source": [
    "sub_df[:200]"
   ]
  },
  {
   "cell_type": "code",
   "execution_count": 13,
   "id": "b5be350c",
   "metadata": {},
   "outputs": [
    {
     "data": {
      "text/plain": [
       "['trial_type']"
      ]
     },
     "execution_count": 13,
     "metadata": {},
     "output_type": "execute_result"
    }
   ],
   "source": [
    "[col for col in sub_df.columns if 'trial_type' in col]"
   ]
  },
  {
   "cell_type": "code",
   "execution_count": 14,
   "id": "8805397c",
   "metadata": {},
   "outputs": [
    {
     "name": "stdout",
     "output_type": "stream",
     "text": [
      "The current inputs dataframe: []\n"
     ]
    },
    {
     "ename": "TypeError",
     "evalue": "reduce() of empty iterable with no initial value",
     "output_type": "error",
     "traceback": [
      "\u001b[0;31m---------------------------------------------------------------------------\u001b[0m",
      "\u001b[0;31mTypeError\u001b[0m                                 Traceback (most recent call last)",
      "Cell \u001b[0;32mIn[14], line 1\u001b[0m\n\u001b[0;32m----> 1\u001b[0m outputs \u001b[38;5;241m=\u001b[39m \u001b[43mroot_node\u001b[49m\u001b[38;5;241;43m.\u001b[39;49m\u001b[43mrun\u001b[49m\u001b[43m(\u001b[49m\u001b[43mgroup_by\u001b[49m\u001b[38;5;241;43m=\u001b[39;49m\u001b[43m[\u001b[49m\u001b[38;5;124;43m'\u001b[39;49m\u001b[38;5;124;43mrun\u001b[39;49m\u001b[38;5;124;43m'\u001b[39;49m\u001b[43m,\u001b[49m\u001b[43m \u001b[49m\u001b[38;5;124;43m'\u001b[39;49m\u001b[38;5;124;43msubject\u001b[39;49m\u001b[38;5;124;43m'\u001b[39;49m\u001b[43m]\u001b[49m\u001b[43m,\u001b[49m\u001b[43m \u001b[49m\u001b[43mforce_dense\u001b[49m\u001b[38;5;241;43m=\u001b[39;49m\u001b[38;5;28;43;01mFalse\u001b[39;49;00m\u001b[43m,\u001b[49m\u001b[43m \u001b[49m\u001b[43mtransformation_history\u001b[49m\u001b[38;5;241;43m=\u001b[39;49m\u001b[38;5;28;43;01mTrue\u001b[39;49;00m\u001b[43m)\u001b[49m\n",
      "File \u001b[0;32m~/.pyenv/versions/3.10.7/envs/SCanD_env-3.10.7/lib/python3.10/site-packages/bids/modeling/statsmodels.py:478\u001b[0m, in \u001b[0;36mBIDSStatsModelsNode.run\u001b[0;34m(self, inputs, group_by, force_dense, sampling_rate, invalid_contrasts, transformation_history, **filters)\u001b[0m\n\u001b[1;32m    475\u001b[0m         \u001b[38;5;28;01melse\u001b[39;00m:\n\u001b[1;32m    476\u001b[0m             grp_inputs\u001b[38;5;241m.\u001b[39mappend(obj)\n\u001b[0;32m--> 478\u001b[0m     node_output \u001b[38;5;241m=\u001b[39m \u001b[43mBIDSStatsModelsNodeOutput\u001b[49m\u001b[43m(\u001b[49m\n\u001b[1;32m    479\u001b[0m \u001b[43m        \u001b[49m\u001b[43mnode\u001b[49m\u001b[38;5;241;43m=\u001b[39;49m\u001b[38;5;28;43mself\u001b[39;49m\u001b[43m,\u001b[49m\u001b[43m \u001b[49m\u001b[43mentities\u001b[49m\u001b[38;5;241;43m=\u001b[39;49m\u001b[38;5;28;43mdict\u001b[39;49m\u001b[43m(\u001b[49m\u001b[43mgrp_ents\u001b[49m\u001b[43m)\u001b[49m\u001b[43m,\u001b[49m\u001b[43m \u001b[49m\u001b[43mcollections\u001b[49m\u001b[38;5;241;43m=\u001b[39;49m\u001b[43mgrp_colls\u001b[49m\u001b[43m,\u001b[49m\n\u001b[1;32m    480\u001b[0m \u001b[43m        \u001b[49m\u001b[43minputs\u001b[49m\u001b[38;5;241;43m=\u001b[39;49m\u001b[43mgrp_inputs\u001b[49m\u001b[43m,\u001b[49m\u001b[43m \u001b[49m\u001b[43mforce_dense\u001b[49m\u001b[38;5;241;43m=\u001b[39;49m\u001b[43mforce_dense\u001b[49m\u001b[43m,\u001b[49m\n\u001b[1;32m    481\u001b[0m \u001b[43m        \u001b[49m\u001b[43msampling_rate\u001b[49m\u001b[38;5;241;43m=\u001b[39;49m\u001b[43msampling_rate\u001b[49m\u001b[43m,\u001b[49m\u001b[43m \u001b[49m\u001b[43minvalid_contrasts\u001b[49m\u001b[38;5;241;43m=\u001b[39;49m\u001b[43minvalid_contrasts\u001b[49m\u001b[43m,\u001b[49m\n\u001b[1;32m    482\u001b[0m \u001b[43m        \u001b[49m\u001b[43mtransformation_history\u001b[49m\u001b[38;5;241;43m=\u001b[39;49m\u001b[43mtransformation_history\u001b[49m\u001b[43m)\u001b[49m\n\u001b[1;32m    483\u001b[0m     results\u001b[38;5;241m.\u001b[39mappend(node_output)\n\u001b[1;32m    485\u001b[0m \u001b[38;5;28;01mreturn\u001b[39;00m results\n",
      "File \u001b[0;32m~/.pyenv/versions/3.10.7/envs/SCanD_env-3.10.7/lib/python3.10/site-packages/bids/modeling/statsmodels.py:610\u001b[0m, in \u001b[0;36mBIDSStatsModelsNodeOutput.__init__\u001b[0;34m(self, node, entities, collections, inputs, force_dense, sampling_rate, invalid_contrasts, transformation_history)\u001b[0m\n\u001b[1;32m    607\u001b[0m \u001b[38;5;28;01mif\u001b[39;00m inputs:\n\u001b[1;32m    608\u001b[0m     dfs\u001b[38;5;241m.\u001b[39mappend(\u001b[38;5;28mself\u001b[39m\u001b[38;5;241m.\u001b[39m_inputs_to_df(inputs))\n\u001b[0;32m--> 610\u001b[0m df \u001b[38;5;241m=\u001b[39m \u001b[43mreduce\u001b[49m\u001b[43m(\u001b[49m\u001b[43mpd\u001b[49m\u001b[38;5;241;43m.\u001b[39;49m\u001b[43mDataFrame\u001b[49m\u001b[38;5;241;43m.\u001b[39;49m\u001b[43mmerge\u001b[49m\u001b[43m,\u001b[49m\u001b[43m \u001b[49m\u001b[43mdfs\u001b[49m\u001b[43m)\u001b[49m\n\u001b[1;32m    612\u001b[0m \u001b[38;5;66;03m# If dummy coded condition columns needed, generate and concat\u001b[39;00m\n\u001b[1;32m    613\u001b[0m var_names \u001b[38;5;241m=\u001b[39m \u001b[38;5;28mlist\u001b[39m(\u001b[38;5;28mself\u001b[39m\u001b[38;5;241m.\u001b[39mnode\u001b[38;5;241m.\u001b[39mmodel[\u001b[38;5;124m'\u001b[39m\u001b[38;5;124mx\u001b[39m\u001b[38;5;124m'\u001b[39m])\n",
      "\u001b[0;31mTypeError\u001b[0m: reduce() of empty iterable with no initial value"
     ]
    }
   ],
   "source": [
    "outputs = root_node.run(group_by=['run', 'subject'], force_dense=False, transformation_history=True)"
   ]
  },
  {
   "cell_type": "code",
   "execution_count": null,
   "id": "1b69647c",
   "metadata": {},
   "outputs": [],
   "source": [
    "root_node.run(group_by=None)"
   ]
  },
  {
   "cell_type": "code",
   "execution_count": null,
   "id": "5a33126d",
   "metadata": {},
   "outputs": [],
   "source": []
  }
 ],
 "metadata": {
  "kernelspec": {
   "display_name": "SCanD_env-3.10.7",
   "language": "python",
   "name": "python3"
  },
  "language_info": {
   "codemirror_mode": {
    "name": "ipython",
    "version": 3
   },
   "file_extension": ".py",
   "mimetype": "text/x-python",
   "name": "python",
   "nbconvert_exporter": "python",
   "pygments_lexer": "ipython3",
   "version": "3.10.7"
  }
 },
 "nbformat": 4,
 "nbformat_minor": 5
}
