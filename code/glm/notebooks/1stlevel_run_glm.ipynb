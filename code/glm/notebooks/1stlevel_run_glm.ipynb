{
 "cells": [
  {
   "cell_type": "code",
   "execution_count": 1,
   "id": "d68fd7d7",
   "metadata": {},
   "outputs": [
    {
     "name": "stderr",
     "output_type": "stream",
     "text": [
      "2025-04-29 17:53:12,255 - INFO - NumExpr defaulting to 16 threads.\n"
     ]
    }
   ],
   "source": [
    "import sys,os\n",
    "from pathlib import Path\n",
    "\n",
    "sys.path.append(os.path.abspath(\"/projects/ttan/SCanD_project/code/glm\"))\n",
    "from bin import FirstLevelModelFit, LoadBidsModel, FirstLevelDesignMatrix\n",
    "from bin import load_data, plot_dscalar\n",
    "\n",
    "from bin import FirstLevelModelFit, LoadBidsModel, FirstLevelDesignMatrix\n",
    "from bin import load_data, plot_dscalar\n",
    "import nibabel as nib\n",
    "import pandas as pd\n",
    "import numpy as np\n",
    "import math\n",
    "from nilearn.plotting import plot_design_matrix"
   ]
  },
  {
   "cell_type": "code",
   "execution_count": 4,
   "id": "274c9d91",
   "metadata": {},
   "outputs": [],
   "source": [
    "# Test-run with RTMSWM dataset\n",
    "bids_dir = \"/scratch/ttan/ScanD_pipelines_scc/data/local/bids/\"\n",
    "task_label = \"nbk\"\n",
    "space_label = \"fsLR\"\n",
    "derivatives_dir = \"/scratch/ttan/ScanD_pipelines_scc/data/local/derivatives/fmriprep\"\n",
    "dense = '91k'\n",
    "session = '02'\n",
    "participant_label = 'CMHWM033'\n",
    "model_spec = '/projects/ttan/SCanD_project/code/glm/examples/models/RTMSWM/model-002_smdl.json'"
   ]
  },
  {
   "cell_type": "code",
   "execution_count": 5,
   "id": "905db501",
   "metadata": {},
   "outputs": [
    {
     "name": "stderr",
     "output_type": "stream",
     "text": [
      "2025-04-29 17:58:41,557 - INFO - Generating design matrix for: CMHWM033 | ses-02 | run-1\n",
      "2025-04-29 17:58:46,675 - INFO - Trial types: ['onebackblock' 'oneback' 'oneback_hit' 'threebackblock' 'threeback'\n",
      " 'threeback_false' 'threeback_hit' 'oneback_false']\n",
      "/home/ttan/.pyenv/versions/SCanD_env-3.10.7/lib/python3.10/site-packages/nibabel/cifti2/cifti2.py:1492: UserWarning: Dataobj shape (418, 91282) does not match shape expected from CIFTI-2 header (420, 91282)\n",
      "  warn(\n",
      "/home/ttan/.pyenv/versions/SCanD_env-3.10.7/lib/python3.10/site-packages/nilearn/glm/first_level/design_matrix.py:416: UserWarning: The following conditions contain events with null duration:\n",
      "- 'oneback_false'\n",
      "- 'oneback_hit'\n",
      "- 'threeback_false'\n",
      "- 'threeback_hit'\n",
      "\n",
      "  matrix, names = _convolve_regressors(\n",
      "2025-04-29 17:58:48,775 - INFO - Columns of the convolved design matrix: Index(['oneback_false', 'oneback_false_derivative', 'oneback_false_dispersion',\n",
      "       'oneback_hit', 'oneback_hit_derivative', 'oneback_hit_dispersion',\n",
      "       'onebackblock', 'onebackblock_derivative', 'onebackblock_dispersion',\n",
      "       'threeback_false', 'threeback_false_derivative',\n",
      "       'threeback_false_dispersion', 'threeback_hit',\n",
      "       'threeback_hit_derivative', 'threeback_hit_dispersion',\n",
      "       'threebackblock', 'threebackblock_derivative',\n",
      "       'threebackblock_dispersion', 'csf', 'csf_derivative1', 'csf_power2',\n",
      "       'csf_derivative1_power2', 'white_matter', 'white_matter_derivative1',\n",
      "       'white_matter_power2', 'white_matter_derivative1_power2', 'csf_wm',\n",
      "       'trans_x', 'trans_x_derivative1', 'trans_x_power2',\n",
      "       'trans_x_derivative1_power2', 'trans_y', 'trans_y_derivative1',\n",
      "       'trans_y_derivative1_power2', 'trans_y_power2', 'trans_z',\n",
      "       'trans_z_derivative1', 'trans_z_power2', 'trans_z_derivative1_power2',\n",
      "       'rot_x', 'rot_x_derivative1', 'rot_x_derivative1_power2',\n",
      "       'rot_x_power2', 'rot_y', 'rot_y_derivative1', 'rot_y_power2',\n",
      "       'rot_y_derivative1_power2', 'rot_z', 'rot_z_derivative1',\n",
      "       'rot_z_derivative1_power2', 'rot_z_power2', 'drift_1', 'drift_2',\n",
      "       'drift_3', 'drift_4', 'drift_5', 'drift_6', 'drift_7', 'drift_8',\n",
      "       'drift_9', 'drift_10', 'drift_11', 'drift_12', 'drift_13', 'drift_14',\n",
      "       'drift_15', 'drift_16', 'constant'],\n",
      "      dtype='object')\n",
      "2025-04-29 17:58:48,776 - INFO - ========================================\n",
      "/home/ttan/.pyenv/versions/SCanD_env-3.10.7/lib/python3.10/site-packages/nibabel/cifti2/cifti2.py:1492: UserWarning: Dataobj shape (418, 91282) does not match shape expected from CIFTI-2 header (420, 91282)\n",
      "  warn(\n",
      "2025-04-29 17:58:50,551 - INFO - Fitting Model for subject: CMHWM033 | ses-02 | run-1\n",
      "2025-04-29 17:58:50,552 - INFO - ========================================\n",
      "/home/ttan/.pyenv/versions/SCanD_env-3.10.7/lib/python3.10/site-packages/nilearn/glm/regression.py:350: RuntimeWarning: invalid value encountered in divide\n",
      "  return np.var(self.predicted, 0) / np.var(self.whitened_Y, 0)\n",
      "/home/ttan/.pyenv/versions/SCanD_env-3.10.7/lib/python3.10/site-packages/nilearn/glm/regression.py:152: RuntimeWarning: divide by zero encountered in log\n",
      "  loglf = -n / 2.0 * np.log(2 * np.pi * sigmasq) - SSE / (2 * sigmasq)\n",
      "/home/ttan/.pyenv/versions/SCanD_env-3.10.7/lib/python3.10/site-packages/nilearn/glm/regression.py:152: RuntimeWarning: invalid value encountered in divide\n",
      "  loglf = -n / 2.0 * np.log(2 * np.pi * sigmasq) - SSE / (2 * sigmasq)\n",
      "2025-04-29 17:59:32,059 - INFO - Saving the design matrix to /scratch/ttan/ScanD_pipelines_scc/data/local/derivatives/glm/sub-CMHWM033\n",
      "2025-04-29 17:59:33,107 - INFO - Saving Model outputs: /scratch/ttan/ScanD_pipelines_scc/data/local/derivatives/glm/sub-CMHWM033/sub-CMHWM033_ses-02_task-nbk_run-1_stat-r_square_statmap.dscalar.nii\n",
      "2025-04-29 17:59:33,511 - INFO - Saving Model outputs: /scratch/ttan/ScanD_pipelines_scc/data/local/derivatives/glm/sub-CMHWM033/sub-CMHWM033_ses-02_task-nbk_run-1_stat-log_likelihood_statmap.dscalar.nii\n",
      "2025-04-29 17:59:33,920 - INFO - Saving Model outputs: /scratch/ttan/ScanD_pipelines_scc/data/local/derivatives/glm/sub-CMHWM033/sub-CMHWM033_ses-02_task-nbk_run-1_stat-mean_square_error_statmap.dscalar.nii\n",
      "2025-04-29 17:59:34,980 - INFO - \n",
      "========================================\n",
      "2025-04-29 17:59:34,981 - INFO - Computing contrast for: CMHWM033 | ses-02 | run-1\n",
      "2025-04-29 17:59:34,982 - INFO - Contrast name: threebackblockkminusonebackblock\n",
      "2025-04-29 17:59:34,983 - INFO - Contrast weights: [[ 0  0  0  0  0  0 -1  0  0  0  0  0  0  0  0  1  0  0  0  0  0  0  0  0\n",
      "   0  0  0  0  0  0  0  0  0  0  0  0  0  0  0  0  0  0  0  0  0  0  0  0\n",
      "   0  0  0  0  0  0  0  0  0  0  0  0  0  0  0  0  0  0  0  0]]\n",
      "2025-04-29 17:59:34,983 - INFO - Contrast type: t\n",
      "/home/ttan/.pyenv/versions/SCanD_env-3.10.7/lib/python3.10/site-packages/nilearn/glm/_utils.py:205: RuntimeWarning: divide by zero encountered in divide\n",
      "  return np.where(X <= 0, 0, 1.0 / X)\n",
      "2025-04-29 17:59:42,764 - INFO - Saving Regressor output: /scratch/ttan/ScanD_pipelines_scc/data/local/derivatives/glm/sub-CMHWM033/sub-CMHWM033_ses-02_task-nbk_run-1_contrast-threebackblockkminusonebackblock_stat-effect_size_statmap.dscalar.nii\n",
      "2025-04-29 17:59:43,162 - INFO - Saving Regressor output: /scratch/ttan/ScanD_pipelines_scc/data/local/derivatives/glm/sub-CMHWM033/sub-CMHWM033_ses-02_task-nbk_run-1_contrast-threebackblockkminusonebackblock_stat-effect_variance_statmap.dscalar.nii\n",
      "2025-04-29 17:59:43,546 - INFO - Saving Regressor output: /scratch/ttan/ScanD_pipelines_scc/data/local/derivatives/glm/sub-CMHWM033/sub-CMHWM033_ses-02_task-nbk_run-1_contrast-threebackblockkminusonebackblock_stat-z_score_statmap.dscalar.nii\n",
      "2025-04-29 17:59:43,926 - INFO - Saving Regressor output: /scratch/ttan/ScanD_pipelines_scc/data/local/derivatives/glm/sub-CMHWM033/sub-CMHWM033_ses-02_task-nbk_run-1_contrast-threebackblockkminusonebackblock_stat-p_value_statmap.dscalar.nii\n",
      "2025-04-29 17:59:44,306 - INFO - Saving Regressor output: /scratch/ttan/ScanD_pipelines_scc/data/local/derivatives/glm/sub-CMHWM033/sub-CMHWM033_ses-02_task-nbk_run-1_contrast-threebackblockkminusonebackblock_stat-t_statmap.dscalar.nii\n",
      "2025-04-29 17:59:45,352 - INFO - \n",
      "========================================\n",
      "2025-04-29 17:59:45,353 - INFO - Computing contrast for: CMHWM033 | ses-02 | run-1\n",
      "2025-04-29 17:59:45,354 - INFO - Contrast name: onebackblock\n",
      "2025-04-29 17:59:45,356 - INFO - Contrast weights: [[0 0 0 0 0 0 1 0 0 0 0 0 0 0 0 0 0 0 0 0 0 0 0 0 0 0 0 0 0 0 0 0 0 0 0 0\n",
      "  0 0 0 0 0 0 0 0 0 0 0 0 0 0 0 0 0 0 0 0 0 0 0 0 0 0 0 0 0 0 0 0]]\n",
      "2025-04-29 17:59:45,357 - INFO - Contrast type: t\n",
      "/home/ttan/.pyenv/versions/SCanD_env-3.10.7/lib/python3.10/site-packages/nilearn/glm/_utils.py:205: RuntimeWarning: divide by zero encountered in divide\n",
      "  return np.where(X <= 0, 0, 1.0 / X)\n",
      "2025-04-29 17:59:53,060 - INFO - Saving Regressor output: /scratch/ttan/ScanD_pipelines_scc/data/local/derivatives/glm/sub-CMHWM033/sub-CMHWM033_ses-02_task-nbk_run-1_contrast-onebackblock_stat-effect_size_statmap.dscalar.nii\n",
      "2025-04-29 17:59:53,441 - INFO - Saving Regressor output: /scratch/ttan/ScanD_pipelines_scc/data/local/derivatives/glm/sub-CMHWM033/sub-CMHWM033_ses-02_task-nbk_run-1_contrast-onebackblock_stat-effect_variance_statmap.dscalar.nii\n",
      "2025-04-29 17:59:53,814 - INFO - Saving Regressor output: /scratch/ttan/ScanD_pipelines_scc/data/local/derivatives/glm/sub-CMHWM033/sub-CMHWM033_ses-02_task-nbk_run-1_contrast-onebackblock_stat-z_score_statmap.dscalar.nii\n",
      "2025-04-29 17:59:54,188 - INFO - Saving Regressor output: /scratch/ttan/ScanD_pipelines_scc/data/local/derivatives/glm/sub-CMHWM033/sub-CMHWM033_ses-02_task-nbk_run-1_contrast-onebackblock_stat-p_value_statmap.dscalar.nii\n",
      "2025-04-29 17:59:54,563 - INFO - Saving Regressor output: /scratch/ttan/ScanD_pipelines_scc/data/local/derivatives/glm/sub-CMHWM033/sub-CMHWM033_ses-02_task-nbk_run-1_contrast-onebackblock_stat-t_statmap.dscalar.nii\n",
      "2025-04-29 17:59:55,607 - INFO - \n",
      "========================================\n",
      "2025-04-29 17:59:55,608 - INFO - Computing contrast for: CMHWM033 | ses-02 | run-1\n",
      "2025-04-29 17:59:55,609 - INFO - Contrast name: threebackblock\n",
      "2025-04-29 17:59:55,610 - INFO - Contrast weights: [[0 0 0 0 0 0 0 0 0 0 0 0 0 0 0 1 0 0 0 0 0 0 0 0 0 0 0 0 0 0 0 0 0 0 0 0\n",
      "  0 0 0 0 0 0 0 0 0 0 0 0 0 0 0 0 0 0 0 0 0 0 0 0 0 0 0 0 0 0 0 0]]\n",
      "2025-04-29 17:59:55,611 - INFO - Contrast type: t\n",
      "/home/ttan/.pyenv/versions/SCanD_env-3.10.7/lib/python3.10/site-packages/nilearn/glm/_utils.py:205: RuntimeWarning: divide by zero encountered in divide\n",
      "  return np.where(X <= 0, 0, 1.0 / X)\n",
      "2025-04-29 18:00:03,594 - INFO - Saving Regressor output: /scratch/ttan/ScanD_pipelines_scc/data/local/derivatives/glm/sub-CMHWM033/sub-CMHWM033_ses-02_task-nbk_run-1_contrast-threebackblock_stat-effect_size_statmap.dscalar.nii\n",
      "2025-04-29 18:00:03,981 - INFO - Saving Regressor output: /scratch/ttan/ScanD_pipelines_scc/data/local/derivatives/glm/sub-CMHWM033/sub-CMHWM033_ses-02_task-nbk_run-1_contrast-threebackblock_stat-effect_variance_statmap.dscalar.nii\n",
      "2025-04-29 18:00:04,361 - INFO - Saving Regressor output: /scratch/ttan/ScanD_pipelines_scc/data/local/derivatives/glm/sub-CMHWM033/sub-CMHWM033_ses-02_task-nbk_run-1_contrast-threebackblock_stat-z_score_statmap.dscalar.nii\n",
      "2025-04-29 18:00:04,741 - INFO - Saving Regressor output: /scratch/ttan/ScanD_pipelines_scc/data/local/derivatives/glm/sub-CMHWM033/sub-CMHWM033_ses-02_task-nbk_run-1_contrast-threebackblock_stat-p_value_statmap.dscalar.nii\n",
      "2025-04-29 18:00:05,120 - INFO - Saving Regressor output: /scratch/ttan/ScanD_pipelines_scc/data/local/derivatives/glm/sub-CMHWM033/sub-CMHWM033_ses-02_task-nbk_run-1_contrast-threebackblock_stat-t_statmap.dscalar.nii\n"
     ]
    }
   ],
   "source": [
    "model = FirstLevelModelFit(bids_dir, derivatives_dir, participant_label, task_label, session, space_label, dense, model_spec)\n",
    "beta_maps = model.process_and_fit_valid_run()"
   ]
  },
  {
   "cell_type": "code",
   "execution_count": null,
   "id": "ebb21647",
   "metadata": {},
   "outputs": [],
   "source": []
  }
 ],
 "metadata": {
  "kernelspec": {
   "display_name": "SCanD_env-3.10.7",
   "language": "python",
   "name": "python3"
  },
  "language_info": {
   "codemirror_mode": {
    "name": "ipython",
    "version": 3
   },
   "file_extension": ".py",
   "mimetype": "text/x-python",
   "name": "python",
   "nbconvert_exporter": "python",
   "pygments_lexer": "ipython3",
   "version": "3.10.7"
  }
 },
 "nbformat": 4,
 "nbformat_minor": 5
}
